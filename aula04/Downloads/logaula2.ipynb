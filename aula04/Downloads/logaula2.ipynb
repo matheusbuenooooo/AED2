{
  "nbformat": 4,
  "nbformat_minor": 0,
  "metadata": {
    "colab": {
      "provenance": []
    },
    "kernelspec": {
      "name": "python3",
      "display_name": "Python 3"
    },
    "language_info": {
      "name": "python"
    }
  },
  "cells": [
    {
      "cell_type": "code",
      "source": [
        "\"Vamos praticar - Conjunção A\"\n",
        "\n",
        "# Conjunção (AND = ^): só é True quando p e q são True\n",
        "\n",
        "\"Apresentação das variaveis\"\n",
        "\n",
        "# p: \"A prova é aplicada hoje\"\n",
        "# q: \"A prova é respondida à caneta azul\"\n",
        "\n",
        "dia = \"hoje\"\n",
        "caneta = \"azul\"\n",
        "\n",
        "\"Transformar a proposição em valor lógico:\"\n",
        "\n",
        "p = (dia == \"hoje\")\n",
        "\n",
        "\"Transformar a proposição em valor lógico:\"\n",
        "\n",
        "q = (caneta == \"azul\")\n",
        "\n",
        "\"Print\"\n",
        "\n",
        "print(\"p^q =\", p and q) # True só se for hoje E azul"
      ],
      "metadata": {
        "colab": {
          "base_uri": "https://localhost:8080/"
        },
        "id": "kx7L5kauXAr6",
        "outputId": "f58ef367-39ab-40d5-e321-98c4e23dafb2"
      },
      "execution_count": 4,
      "outputs": [
        {
          "output_type": "stream",
          "name": "stdout",
          "text": [
            "p^q = True\n"
          ]
        }
      ]
    },
    {
      "cell_type": "code",
      "source": [
        "\"Vamos praticar - Conjunção A\"\n",
        "\n",
        "# Conjunção (AND = ^): só é True quando p e q são True\n",
        "\n",
        "\"Apresentação das variaveis\"\n",
        "\n",
        "# p: \"A prova é aplicada hoje\"\n",
        "# q: \"A prova é respondida à caneta azul\"\n",
        "\n",
        "dia = \"hoje\"\n",
        "caneta = \"preta\"\n",
        "\n",
        "\"Transformar a proposição em valor lógico:\"\n",
        "\n",
        "p = (dia == \"hoje\")\n",
        "\n",
        "\"Transformar a proposição em valor lógico:\"\n",
        "\n",
        "q = (caneta == \"azul\")\n",
        "\n",
        "\"Print\"\n",
        "\n",
        "print(\"p^q =\", p and q) # True só se for hoje E azul"
      ],
      "metadata": {
        "colab": {
          "base_uri": "https://localhost:8080/"
        },
        "id": "zmZN1buNacC0",
        "outputId": "897a9fde-a5a9-4e89-de44-06f062c869ab"
      },
      "execution_count": 5,
      "outputs": [
        {
          "output_type": "stream",
          "name": "stdout",
          "text": [
            "p^q = False\n"
          ]
        }
      ]
    },
    {
      "cell_type": "code",
      "source": [
        "\"Vamos praticar - Conjunção A\"\n",
        "\n",
        "# Conjunção (AND = ^): só é True quando p e q são True\n",
        "\n",
        "\"Apresentação das variaveis\"\n",
        "\n",
        "# p: \"A prova é aplicada hoje\"\n",
        "# q: \"A prova é respondida à caneta azul\"\n",
        "\n",
        "dia = \"amanhã\"\n",
        "caneta = \"azul\"\n",
        "\n",
        "\"Transformar a proposição em valor lógico:\"\n",
        "\n",
        "p = (dia == \"hoje\")\n",
        "\n",
        "\"Transformar a proposição em valor lógico:\"\n",
        "\n",
        "q = (caneta == \"azul\")\n",
        "\n",
        "\"Print\"\n",
        "\n",
        "print(\"p^q =\", p and q) # True só se for hoje E azul"
      ],
      "metadata": {
        "colab": {
          "base_uri": "https://localhost:8080/"
        },
        "id": "hoII5Q4Zajh4",
        "outputId": "e7406bbc-c0da-43aa-bd04-258826d4a954"
      },
      "execution_count": 6,
      "outputs": [
        {
          "output_type": "stream",
          "name": "stdout",
          "text": [
            "p^q = False\n"
          ]
        }
      ]
    },
    {
      "cell_type": "code",
      "source": [
        "\"Vamos praticar - Conjunção A\"\n",
        "\n",
        "# Conjunção (AND = ^): só é True quando p e q são True\n",
        "\n",
        "\"Apresentação das variaveis\"\n",
        "\n",
        "# p: \"A prova é aplicada hoje\"\n",
        "# q: \"A prova é respondida à caneta azul\"\n",
        "\n",
        "dia = \"ontem\"\n",
        "caneta = \"preta\"\n",
        "\n",
        "\"Transformar a proposição em valor lógico:\"\n",
        "\n",
        "p = (dia == \"hoje\")\n",
        "\n",
        "\"Transformar a proposição em valor lógico:\"\n",
        "\n",
        "q = (caneta == \"azul\")\n",
        "\n",
        "\"Print\"\n",
        "\n",
        "print(\"p:\", p, \"| q:\", q, \"| p^q:\", p and q) # True só se for hoje E azul"
      ],
      "metadata": {
        "colab": {
          "base_uri": "https://localhost:8080/"
        },
        "id": "WyaqVctnayrv",
        "outputId": "d376625c-c48a-4a2e-cc67-3dc1390d868e"
      },
      "execution_count": 8,
      "outputs": [
        {
          "output_type": "stream",
          "name": "stdout",
          "text": [
            "p: True | q: True | p^q: True\n"
          ]
        }
      ]
    }
  ]
}