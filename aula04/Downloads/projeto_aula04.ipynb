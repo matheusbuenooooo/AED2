{
  "nbformat": 4,
  "nbformat_minor": 0,
  "metadata": {
    "colab": {
      "provenance": []
    },
    "kernelspec": {
      "name": "python3",
      "display_name": "Python 3"
    },
    "language_info": {
      "name": "python"
    }
  },
  "cells": [
    {
      "cell_type": "code",
      "source": [
        "livros = [(\"Chapeuzinho Vermelho\", \"Perrault\", 1697), (\"Joao e Maria\", \"Irmãos Grimm\", 1812), (\"Patinho Feio\", \"Hans Christian\", 1843)]\n",
        "\n",
        "def busca_livros(livros, titulo):\n",
        "    começo = 0\n",
        "    fim = len(livros) - 1\n",
        "    while começo <= fim:\n",
        "        meio = (começo + fim) // 2\n",
        "        if titulo == livros[meio][0]:\n",
        "            return livros[meio]\n",
        "        elif titulo < livros[meio][0]:\n",
        "            fim = meio - 1\n",
        "        else:\n",
        "            começo = meio + 1\n",
        "    return -1\n",
        "\n",
        "titulo_busca = input(\"Digite o nome do livro: \")\n",
        "\n",
        "resultado = busca_livros(livros, titulo_busca)\n",
        "if resultado != -1:\n",
        "    print(\"Livro encontrado:\", resultado)\n",
        "else:\n",
        "    print(\"Livro não encontrado.\")"
      ],
      "metadata": {
        "colab": {
          "base_uri": "https://localhost:8080/"
        },
        "id": "3vdTZmcjSwbT",
        "outputId": "01dd74ca-2197-4825-f827-b758e73be7e5"
      },
      "execution_count": 13,
      "outputs": [
        {
          "output_type": "stream",
          "name": "stdout",
          "text": [
            "Digite o nome do livro: josé e maria\n",
            "Livro não encontrado.\n"
          ]
        }
      ]
    }
  ]
}