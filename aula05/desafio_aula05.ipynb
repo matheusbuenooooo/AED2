{
 "cells": [
  {
   "cell_type": "code",
   "execution_count": null,
   "id": "ea63322d-dd14-416c-9470-737450f5b5be",
   "metadata": {},
   "outputs": [],
   "source": [
    "!pip install passlib\n",
    "\n",
    "from passlib.hash import pbkdf2_sha256 as cryp\n",
    "\n",
    "class Usuario:\n",
    "\n",
    "    def __init__(self, nome, sobrenome, email, senha):\n",
    "        self.__nome = nome\n",
    "        self.__sobrenome = sobrenome\n",
    "        self.__email = email\n",
    "        self.__senha = cryp.hash(senha, rounds=1000, salt_size=10)\n",
    "\n",
    "    def nome_completo(self):\n",
    "        return f\"{self.__nome} {self.__sobrenome}\"\n",
    "\n",
    "    def checa_senha(self, senha):\n",
    "        return cryp.verify(senha, self.__senha)\n",
    "\n",
    "\n",
    "while True:\n",
    "    nome = input(\"Nome: \")\n",
    "    sobrenome = input(\"Sobrenome: \")\n",
    "    email = input(\"Email: \")\n",
    "    senha = input(\"Senha: \")\n",
    "    confirma_senha = input(\"Confirme a senha: \")\n",
    "\n",
    "    if senha == confirma_senha:\n",
    "        pessoa = Usuario(nome, sobrenome, email, senha)\n",
    "        print(\"Usuário Criado com Sucesso!!!\")\n",
    "        break\n",
    "    else:\n",
    "        print(\"Senha não confere...\")\n",
    "\n",
    "senha = input(\"Informe a senha para acesso: \")\n",
    "\n",
    "if pessoa.checa_senha(senha):\n",
    "    print(\"Acesso permitido!\")\n",
    "else:\n",
    "    print(\"Acesso negado!\")"
   ]
  },
  {
   "cell_type": "code",
   "execution_count": null,
   "id": "a289c9f1-46db-43ca-90ab-5ace0ef29cd1",
   "metadata": {},
   "outputs": [],
   "source": []
  }
 ],
 "metadata": {
  "kernelspec": {
   "display_name": "Python 3 (ipykernel)",
   "language": "python",
   "name": "python3"
  },
  "language_info": {
   "codemirror_mode": {
    "name": "ipython",
    "version": 3
   },
   "file_extension": ".py",
   "mimetype": "text/x-python",
   "name": "python",
   "nbconvert_exporter": "python",
   "pygments_lexer": "ipython3",
   "version": "3.13.5"
  }
 },
 "nbformat": 4,
 "nbformat_minor": 5
}
